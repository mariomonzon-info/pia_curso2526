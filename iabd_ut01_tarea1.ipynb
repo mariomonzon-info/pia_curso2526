{
  "nbformat": 4,
  "nbformat_minor": 0,
  "metadata": {
    "colab": {
      "provenance": [],
      "authorship_tag": "ABX9TyPcGzM/SIJuoK4rEfEcaCdV",
      "include_colab_link": true
    },
    "kernelspec": {
      "name": "python3",
      "display_name": "Python 3"
    },
    "language_info": {
      "name": "python"
    }
  },
  "cells": [
    {
      "cell_type": "markdown",
      "metadata": {
        "id": "view-in-github",
        "colab_type": "text"
      },
      "source": [
        "<a href=\"https://colab.research.google.com/github/mariomonzon-info/pia_curso2526/blob/main/iabd_ut01_tarea1.ipynb\" target=\"_parent\"><img src=\"https://colab.research.google.com/assets/colab-badge.svg\" alt=\"Open In Colab\"/></a>"
      ]
    },
    {
      "cell_type": "markdown",
      "source": [
        "# Mario Monzón Delgado"
      ],
      "metadata": {
        "id": "M5gKkqybcYEA"
      }
    },
    {
      "cell_type": "markdown",
      "source": [
        "Crea una lista de nombre tenistas con los siguientes\n",
        "elementos: Novak Djokovic, Rafael Nadal, Roger Federer, Pete Sampras, Roy Emerson. Crea otra lista de nombre grand_slams con los siguientes elementos: 24, 22, 20, 14, 12.\n",
        "Imprime por pantalla las dos listas."
      ],
      "metadata": {
        "id": "T3fVAKPOm4-_"
      }
    },
    {
      "cell_type": "code",
      "source": [
        "tenistas = [\"Novak Djokovic\", \"Rafael Nadal\", \"Roger Federer\", \"Pete Sampras\", \"Roy Emerson\"]\n",
        "grand_slams = [24, 22, 20, 14, 12]\n",
        "\n",
        "print(tenistas)\n",
        "print(grand_slams)"
      ],
      "metadata": {
        "colab": {
          "base_uri": "https://localhost:8080/"
        },
        "id": "WZzZA81QcmRr",
        "outputId": "de101386-0cb5-4417-b025-fe70526cbb85"
      },
      "execution_count": 12,
      "outputs": [
        {
          "output_type": "stream",
          "name": "stdout",
          "text": [
            "['Novak Djokovic', 'Rafael Nadal', 'Roger Federer', 'Pete Sampras', 'Roy Emerson']\n",
            "[24, 22, 20, 14, 12]\n"
          ]
        }
      ]
    },
    {
      "cell_type": "markdown",
      "source": [
        "Crea un diccionario de nombre dic donde la clave de\n",
        "cada elemento sea el nombre de un tenista y su valor el número de Grand Slams ganados.\n",
        "Imprime por pantalla el diccionario."
      ],
      "metadata": {
        "id": "T9zxdnsxnH6a"
      }
    },
    {
      "cell_type": "code",
      "source": [
        "dic = dict( zip( tenistas, grand_slams ) )\n",
        "\n",
        "print( dic )"
      ],
      "metadata": {
        "colab": {
          "base_uri": "https://localhost:8080/"
        },
        "collapsed": true,
        "id": "PAaAo-W9fKdc",
        "outputId": "252b29f3-0df2-4774-9074-48fd1a823d0d"
      },
      "execution_count": 13,
      "outputs": [
        {
          "output_type": "stream",
          "name": "stdout",
          "text": [
            "{'Novak Djokovic': 24, 'Rafael Nadal': 22, 'Roger Federer': 20, 'Pete Sampras': 14, 'Roy Emerson': 12}\n"
          ]
        }
      ]
    },
    {
      "cell_type": "markdown",
      "source": [
        "Crea una función de nombre get_tenistas que reciba como parámetro el diccionario\n",
        "dic y muestre los datos del diccionario en la forma Nombre del jugador: X Grand Slams ganados. El resultado debería ser como sigue:\n",
        "Novak Djokovic: 24 Grand Slams ganados.\n",
        "Rafael Nadal: 22 Grand Slams ganados."
      ],
      "metadata": {
        "id": "sbtrqdlbnb_3"
      }
    },
    {
      "cell_type": "code",
      "source": [
        "def get_tenistas( dic ):\n",
        "  for nombre, grand_slam in dic.items():\n",
        "    print( f\"{ nombre }: { grand_slam } Grand Slams ganados.\" )\n",
        "\n",
        "get_tenistas(dic)"
      ],
      "metadata": {
        "colab": {
          "base_uri": "https://localhost:8080/"
        },
        "id": "KOXc9JTqnwcs",
        "outputId": "9a48b5b9-d1f9-4f62-8a16-f2d7ee8b7a6b"
      },
      "execution_count": 14,
      "outputs": [
        {
          "output_type": "stream",
          "name": "stdout",
          "text": [
            "Novak Djokovic: 24 Grand Slams ganados.\n",
            "Rafael Nadal: 22 Grand Slams ganados.\n",
            "Roger Federer: 20 Grand Slams ganados.\n",
            "Pete Sampras: 14 Grand Slams ganados.\n",
            "Roy Emerson: 12 Grand Slams ganados.\n"
          ]
        }
      ]
    },
    {
      "cell_type": "markdown",
      "source": [
        "Define la clase **Pais** con un \"constructor\" que inicialice los atributos **nombre, capital e idioma**, que serán los datos a considerar en la clase. Dentro de ella, crea los métodos **get_nombre**, **get_capital** y **get_idioma**, que devolverán el nombre del país, su capital y el idioma\n",
        "hablado, respectivamente.\n",
        "\n",
        "A continuación, crea una instancia u objeto de la clase Pais,\n",
        "asignándole los datos que desees, y haz uso de los métodos implementados para mostrar un mensaje con la información almacenada."
      ],
      "metadata": {
        "id": "qfdaUEy-p22a"
      }
    },
    {
      "cell_type": "code",
      "source": [
        "class Pais:\n",
        "\n",
        "  def __init__(self, nombre, capital, idioma):\n",
        "    self.nombre = nombre\n",
        "    self.capital = capital\n",
        "    self.idioma = idioma\n",
        "\n",
        "  def get_nombre(self):\n",
        "    return self.nombre\n",
        "\n",
        "  def get_capital(self):\n",
        "    return self.capital\n",
        "\n",
        "  def get_idioma(self):\n",
        "    return self.idioma\n",
        "\n",
        "maldivas = Pais( \"Maldivas\", \"Malé\", \"Dhivehi\")\n",
        "japon = Pais( \"Japón\", \"Tokio\", \"Japonés\")\n",
        "canada = Pais( \"Canadá\", \"Ottawa\", \"Inglés\")\n",
        "\n",
        "print( f\"La capital de {maldivas.get_nombre()} es {maldivas.get_capital()} y el idioma es {maldivas.get_idioma()}.\" )\n",
        "print( f\"La capital de {japon.get_nombre()} es {japon.get_capital()} y el idioma es {japon.get_idioma()}.\" )\n",
        "print( f\"La capital de {canada.get_nombre()} es {canada.get_capital()} y el idioma es {canada.get_idioma()}.\" )"
      ],
      "metadata": {
        "colab": {
          "base_uri": "https://localhost:8080/"
        },
        "id": "j1jIPBVhqLKB",
        "outputId": "d3d43182-bc24-49e3-a8aa-ae673a9739b1"
      },
      "execution_count": 15,
      "outputs": [
        {
          "output_type": "stream",
          "name": "stdout",
          "text": [
            "La capital de Maldivas es Malé y el idioma es Dhivehi.\n",
            "La capital de Japón es Tokio y el idioma es Japonés.\n",
            "La capital de Canadá es Ottawa y el idioma es Inglés.\n"
          ]
        }
      ]
    }
  ]
}